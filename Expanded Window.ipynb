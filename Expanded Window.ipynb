{
 "cells": [
  {
   "cell_type": "markdown",
   "id": "58576d76",
   "metadata": {},
   "source": [
    "# Expendad Window"
   ]
  },
  {
   "cell_type": "markdown",
   "id": "f1e9e9c1",
   "metadata": {},
   "source": [
    "Expanded window which looks all the past values is used. Since it deviates ground truth values, it is not "
   ]
  },
  {
   "cell_type": "code",
   "execution_count": 1,
   "id": "8ff3eefa",
   "metadata": {},
   "outputs": [
    {
     "name": "stderr",
     "output_type": "stream",
     "text": [
      "C:\\Users\\mehme\\anaconda3\\lib\\site-packages\\scipy\\__init__.py:146: UserWarning: A NumPy version >=1.16.5 and <1.23.0 is required for this version of SciPy (detected version 1.23.1\n",
      "  warnings.warn(f\"A NumPy version >={np_minversion} and <{np_maxversion}\"\n"
     ]
    }
   ],
   "source": [
    "import pandas as pd\n",
    "import numpy as np\n",
    "import matplotlib.pyplot as plt\n",
    "import seaborn as sns"
   ]
  },
  {
   "cell_type": "code",
   "execution_count": 2,
   "id": "180f9819",
   "metadata": {},
   "outputs": [
    {
     "data": {
      "text/html": [
       "<div>\n",
       "<style scoped>\n",
       "    .dataframe tbody tr th:only-of-type {\n",
       "        vertical-align: middle;\n",
       "    }\n",
       "\n",
       "    .dataframe tbody tr th {\n",
       "        vertical-align: top;\n",
       "    }\n",
       "\n",
       "    .dataframe thead th {\n",
       "        text-align: right;\n",
       "    }\n",
       "</style>\n",
       "<table border=\"1\" class=\"dataframe\">\n",
       "  <thead>\n",
       "    <tr style=\"text-align: right;\">\n",
       "      <th></th>\n",
       "      <th>cycle</th>\n",
       "      <th>ambient_temperature</th>\n",
       "      <th>datetime</th>\n",
       "      <th>capacity</th>\n",
       "    </tr>\n",
       "  </thead>\n",
       "  <tbody>\n",
       "    <tr>\n",
       "      <th>0</th>\n",
       "      <td>1</td>\n",
       "      <td>24</td>\n",
       "      <td>2008-04-02 15:25:41</td>\n",
       "      <td>1.856487</td>\n",
       "    </tr>\n",
       "    <tr>\n",
       "      <th>1</th>\n",
       "      <td>2</td>\n",
       "      <td>24</td>\n",
       "      <td>2008-04-02 19:43:48</td>\n",
       "      <td>1.846327</td>\n",
       "    </tr>\n",
       "    <tr>\n",
       "      <th>2</th>\n",
       "      <td>3</td>\n",
       "      <td>24</td>\n",
       "      <td>2008-04-03 00:01:06</td>\n",
       "      <td>1.835349</td>\n",
       "    </tr>\n",
       "    <tr>\n",
       "      <th>3</th>\n",
       "      <td>4</td>\n",
       "      <td>24</td>\n",
       "      <td>2008-04-03 04:16:37</td>\n",
       "      <td>1.835263</td>\n",
       "    </tr>\n",
       "    <tr>\n",
       "      <th>4</th>\n",
       "      <td>5</td>\n",
       "      <td>24</td>\n",
       "      <td>2008-04-03 08:33:25</td>\n",
       "      <td>1.834646</td>\n",
       "    </tr>\n",
       "  </tbody>\n",
       "</table>\n",
       "</div>"
      ],
      "text/plain": [
       "   cycle  ambient_temperature             datetime  capacity\n",
       "0      1                   24  2008-04-02 15:25:41  1.856487\n",
       "1      2                   24  2008-04-02 19:43:48  1.846327\n",
       "2      3                   24  2008-04-03 00:01:06  1.835349\n",
       "3      4                   24  2008-04-03 04:16:37  1.835263\n",
       "4      5                   24  2008-04-03 08:33:25  1.834646"
      ]
     },
     "execution_count": 2,
     "metadata": {},
     "output_type": "execute_result"
    }
   ],
   "source": [
    "df = pd.read_csv(\"cap5.csv\")\n",
    "df.head()"
   ]
  },
  {
   "cell_type": "code",
   "execution_count": 4,
   "id": "bedd5200",
   "metadata": {},
   "outputs": [],
   "source": [
    "df[\"datetime\"] = pd.to_datetime(df[\"datetime\"],format = \"%Y-%m-%d %H:%M:%S\")"
   ]
  },
  {
   "cell_type": "code",
   "execution_count": 10,
   "id": "5253a8a0",
   "metadata": {},
   "outputs": [
    {
     "data": {
      "text/html": [
       "<div>\n",
       "<style scoped>\n",
       "    .dataframe tbody tr th:only-of-type {\n",
       "        vertical-align: middle;\n",
       "    }\n",
       "\n",
       "    .dataframe tbody tr th {\n",
       "        vertical-align: top;\n",
       "    }\n",
       "\n",
       "    .dataframe thead th {\n",
       "        text-align: right;\n",
       "    }\n",
       "</style>\n",
       "<table border=\"1\" class=\"dataframe\">\n",
       "  <thead>\n",
       "    <tr style=\"text-align: right;\">\n",
       "      <th></th>\n",
       "      <th>cycle</th>\n",
       "      <th>ambient_temperature</th>\n",
       "      <th>datetime</th>\n",
       "      <th>capacity</th>\n",
       "      <th>expanding_mean</th>\n",
       "    </tr>\n",
       "  </thead>\n",
       "  <tbody>\n",
       "    <tr>\n",
       "      <th>0</th>\n",
       "      <td>1</td>\n",
       "      <td>24</td>\n",
       "      <td>2008-04-02 15:25:41</td>\n",
       "      <td>1.856487</td>\n",
       "      <td>NaN</td>\n",
       "    </tr>\n",
       "    <tr>\n",
       "      <th>1</th>\n",
       "      <td>2</td>\n",
       "      <td>24</td>\n",
       "      <td>2008-04-02 19:43:48</td>\n",
       "      <td>1.846327</td>\n",
       "      <td>1.851407</td>\n",
       "    </tr>\n",
       "    <tr>\n",
       "      <th>2</th>\n",
       "      <td>3</td>\n",
       "      <td>24</td>\n",
       "      <td>2008-04-03 00:01:06</td>\n",
       "      <td>1.835349</td>\n",
       "      <td>1.846055</td>\n",
       "    </tr>\n",
       "    <tr>\n",
       "      <th>3</th>\n",
       "      <td>4</td>\n",
       "      <td>24</td>\n",
       "      <td>2008-04-03 04:16:37</td>\n",
       "      <td>1.835263</td>\n",
       "      <td>1.843357</td>\n",
       "    </tr>\n",
       "    <tr>\n",
       "      <th>4</th>\n",
       "      <td>5</td>\n",
       "      <td>24</td>\n",
       "      <td>2008-04-03 08:33:25</td>\n",
       "      <td>1.834646</td>\n",
       "      <td>1.841614</td>\n",
       "    </tr>\n",
       "    <tr>\n",
       "      <th>5</th>\n",
       "      <td>6</td>\n",
       "      <td>24</td>\n",
       "      <td>2008-04-03 12:55:10</td>\n",
       "      <td>1.835662</td>\n",
       "      <td>1.840622</td>\n",
       "    </tr>\n",
       "    <tr>\n",
       "      <th>6</th>\n",
       "      <td>7</td>\n",
       "      <td>24</td>\n",
       "      <td>2008-04-03 17:17:16</td>\n",
       "      <td>1.835146</td>\n",
       "      <td>1.839840</td>\n",
       "    </tr>\n",
       "    <tr>\n",
       "      <th>7</th>\n",
       "      <td>8</td>\n",
       "      <td>24</td>\n",
       "      <td>2008-04-03 21:28:14</td>\n",
       "      <td>1.825757</td>\n",
       "      <td>1.838080</td>\n",
       "    </tr>\n",
       "    <tr>\n",
       "      <th>8</th>\n",
       "      <td>9</td>\n",
       "      <td>24</td>\n",
       "      <td>2008-04-04 01:38:15</td>\n",
       "      <td>1.824774</td>\n",
       "      <td>1.836601</td>\n",
       "    </tr>\n",
       "    <tr>\n",
       "      <th>9</th>\n",
       "      <td>10</td>\n",
       "      <td>24</td>\n",
       "      <td>2008-04-04 05:48:08</td>\n",
       "      <td>1.824613</td>\n",
       "      <td>1.835402</td>\n",
       "    </tr>\n",
       "  </tbody>\n",
       "</table>\n",
       "</div>"
      ],
      "text/plain": [
       "   cycle  ambient_temperature            datetime  capacity  expanding_mean\n",
       "0      1                   24 2008-04-02 15:25:41  1.856487             NaN\n",
       "1      2                   24 2008-04-02 19:43:48  1.846327        1.851407\n",
       "2      3                   24 2008-04-03 00:01:06  1.835349        1.846055\n",
       "3      4                   24 2008-04-03 04:16:37  1.835263        1.843357\n",
       "4      5                   24 2008-04-03 08:33:25  1.834646        1.841614\n",
       "5      6                   24 2008-04-03 12:55:10  1.835662        1.840622\n",
       "6      7                   24 2008-04-03 17:17:16  1.835146        1.839840\n",
       "7      8                   24 2008-04-03 21:28:14  1.825757        1.838080\n",
       "8      9                   24 2008-04-04 01:38:15  1.824774        1.836601\n",
       "9     10                   24 2008-04-04 05:48:08  1.824613        1.835402"
      ]
     },
     "execution_count": 10,
     "metadata": {},
     "output_type": "execute_result"
    }
   ],
   "source": [
    "df['expanding_mean'] = df['capacity'].expanding(2).mean()\n",
    "df.head(10)"
   ]
  },
  {
   "cell_type": "code",
   "execution_count": 12,
   "id": "1a7ba725",
   "metadata": {},
   "outputs": [
    {
     "data": {
      "text/plain": [
       "Text(0.5, 1.0, 'Title')"
      ]
     },
     "execution_count": 12,
     "metadata": {},
     "output_type": "execute_result"
    },
    {
     "data": {
      "image/png": "[encoded data removed]",
      "text/plain": [
       "<Figure size 432x288 with 1 Axes>"
      ]
     },
     "metadata": {
      "needs_background": "light"
     },
     "output_type": "display_data"
    }
   ],
   "source": [
    "df.rename(columns = {\"datetime\" : \"ds\",\"expanding_mean\":\"y\"}, inplace= True)\n",
    "fig = plt.figure()\n",
    "ax = fig.add_axes([0,0,1,1])\n",
    "ax.plot(df[\"ds\"],df[\"y\"])\n",
    "ax.plot(df[\"ds\"],df[\"capacity\"])\n",
    "ax.set_xlabel(\"X\")\n",
    "ax.set_ylabel(\"Y\")\n",
    "ax.set_title(\"Title\")"
   ]
  },
  {
   "cell_type": "code",
   "execution_count": 14,
   "id": "3033b51d",
   "metadata": {},
   "outputs": [
    {
     "data": {
      "text/plain": [
       "0     2008-04-02 15:25:41\n",
       "1     2008-04-02 19:43:48\n",
       "2     2008-04-03 00:01:06\n",
       "3     2008-04-03 04:16:37\n",
       "4     2008-04-03 08:33:25\n",
       "              ...        \n",
       "163   2008-05-26 10:44:38\n",
       "164   2008-05-26 15:30:43\n",
       "165   2008-05-26 20:21:04\n",
       "166   2008-05-27 15:52:41\n",
       "167   2008-05-27 20:45:42\n",
       "Name: ds, Length: 168, dtype: datetime64[ns]"
      ]
     },
     "execution_count": 14,
     "metadata": {},
     "output_type": "execute_result"
    }
   ],
   "source": [
    "df[\"ds\"]"
   ]
  },
  {
   "cell_type": "code",
   "execution_count": null,
   "id": "3b9baa15",
   "metadata": {},
   "outputs": [],
   "source": []
  }
 ],
 "metadata": {
  "kernelspec": {
   "display_name": "Python 3 (ipykernel)",
   "language": "python",
   "name": "python3"
  },
  "language_info": {
   "codemirror_mode": {
    "name": "ipython",
    "version": 3
   },
   "file_extension": ".py",
   "mimetype": "text/x-python",
   "name": "python",
   "nbconvert_exporter": "python",
   "pygments_lexer": "ipython3",
   "version": "3.9.7"
  }
 },
 "nbformat": 4,
 "nbformat_minor": 5
}
