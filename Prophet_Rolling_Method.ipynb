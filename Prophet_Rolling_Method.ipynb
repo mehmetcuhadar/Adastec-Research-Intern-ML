{
 "cells": [
  {
   "cell_type": "markdown",
   "id": "aafafc8b",
   "metadata": {},
   "source": [
    "# Prophet with rolling method"
   ]
  },
  {
   "cell_type": "markdown",
   "id": "a17ef4c1",
   "metadata": {},
   "source": [
    "In this notebook, instead of directly usage of capacity usages, rolling column is added to data for different values to find the trend better."
   ]
  },
  {
   "cell_type": "code",
   "execution_count": 17,
   "id": "d73e90cb",
   "metadata": {},
   "outputs": [],
   "source": [
    "import pandas as pd\n",
    "import numpy as np\n",
    "import matplotlib.pyplot as plt\n",
    "import seaborn as sns"
   ]
  },
  {
   "cell_type": "code",
   "execution_count": 18,
   "id": "0da167db",
   "metadata": {},
   "outputs": [
    {
     "data": {
      "text/html": [
       "<div>\n",
       "<style scoped>\n",
       "    .dataframe tbody tr th:only-of-type {\n",
       "        vertical-align: middle;\n",
       "    }\n",
       "\n",
       "    .dataframe tbody tr th {\n",
       "        vertical-align: top;\n",
       "    }\n",
       "\n",
       "    .dataframe thead th {\n",
       "        text-align: right;\n",
       "    }\n",
       "</style>\n",
       "<table border=\"1\" class=\"dataframe\">\n",
       "  <thead>\n",
       "    <tr style=\"text-align: right;\">\n",
       "      <th></th>\n",
       "      <th>cycle</th>\n",
       "      <th>ambient_temperature</th>\n",
       "      <th>datetime</th>\n",
       "      <th>capacity</th>\n",
       "    </tr>\n",
       "  </thead>\n",
       "  <tbody>\n",
       "    <tr>\n",
       "      <th>0</th>\n",
       "      <td>1</td>\n",
       "      <td>24</td>\n",
       "      <td>2008-04-02 15:25:41</td>\n",
       "      <td>1.856487</td>\n",
       "    </tr>\n",
       "    <tr>\n",
       "      <th>1</th>\n",
       "      <td>2</td>\n",
       "      <td>24</td>\n",
       "      <td>2008-04-02 19:43:48</td>\n",
       "      <td>1.846327</td>\n",
       "    </tr>\n",
       "    <tr>\n",
       "      <th>2</th>\n",
       "      <td>3</td>\n",
       "      <td>24</td>\n",
       "      <td>2008-04-03 00:01:06</td>\n",
       "      <td>1.835349</td>\n",
       "    </tr>\n",
       "    <tr>\n",
       "      <th>3</th>\n",
       "      <td>4</td>\n",
       "      <td>24</td>\n",
       "      <td>2008-04-03 04:16:37</td>\n",
       "      <td>1.835263</td>\n",
       "    </tr>\n",
       "    <tr>\n",
       "      <th>4</th>\n",
       "      <td>5</td>\n",
       "      <td>24</td>\n",
       "      <td>2008-04-03 08:33:25</td>\n",
       "      <td>1.834646</td>\n",
       "    </tr>\n",
       "  </tbody>\n",
       "</table>\n",
       "</div>"
      ],
      "text/plain": [
       "   cycle  ambient_temperature             datetime  capacity\n",
       "0      1                   24  2008-04-02 15:25:41  1.856487\n",
       "1      2                   24  2008-04-02 19:43:48  1.846327\n",
       "2      3                   24  2008-04-03 00:01:06  1.835349\n",
       "3      4                   24  2008-04-03 04:16:37  1.835263\n",
       "4      5                   24  2008-04-03 08:33:25  1.834646"
      ]
     },
     "execution_count": 18,
     "metadata": {},
     "output_type": "execute_result"
    }
   ],
   "source": [
    "df = pd.read_csv(\"cap5.csv\")\n",
    "df.head()"
   ]
  },
  {
   "cell_type": "code",
   "execution_count": 19,
   "id": "27207ec2",
   "metadata": {},
   "outputs": [],
   "source": [
    "df[\"ds\"] = pd.to_datetime(df[\"datetime\"],format = \"%Y-%m-%d %H:%M:%S\")"
   ]
  },
  {
   "cell_type": "code",
   "execution_count": 20,
   "id": "200e3ba3",
   "metadata": {},
   "outputs": [],
   "source": [
    "df[\"roll_2\"] = df[\"capacity\"].rolling(2).mean()"
   ]
  },
  {
   "cell_type": "code",
   "execution_count": 21,
   "id": "e298af6a",
   "metadata": {},
   "outputs": [],
   "source": [
    "df[\"roll_3\"] = df[\"capacity\"].rolling(3).mean()"
   ]
  },
  {
   "cell_type": "code",
   "execution_count": 22,
   "id": "5552f727",
   "metadata": {},
   "outputs": [],
   "source": [
    "df[\"roll_4\"] = df[\"capacity\"].rolling(4).mean()"
   ]
  },
  {
   "cell_type": "code",
   "execution_count": 23,
   "id": "71bc3aac",
   "metadata": {},
   "outputs": [],
   "source": [
    "df[\"roll_5\"] = df[\"capacity\"].rolling(5).mean()"
   ]
  },
  {
   "cell_type": "code",
   "execution_count": 24,
   "id": "b3505ab3",
   "metadata": {},
   "outputs": [],
   "source": [
    "df[\"roll_7\"] = df[\"capacity\"].rolling(7).mean()"
   ]
  },
  {
   "cell_type": "code",
   "execution_count": 25,
   "id": "d9971208",
   "metadata": {},
   "outputs": [
    {
     "data": {
      "text/html": [
       "<div>\n",
       "<style scoped>\n",
       "    .dataframe tbody tr th:only-of-type {\n",
       "        vertical-align: middle;\n",
       "    }\n",
       "\n",
       "    .dataframe tbody tr th {\n",
       "        vertical-align: top;\n",
       "    }\n",
       "\n",
       "    .dataframe thead th {\n",
       "        text-align: right;\n",
       "    }\n",
       "</style>\n",
       "<table border=\"1\" class=\"dataframe\">\n",
       "  <thead>\n",
       "    <tr style=\"text-align: right;\">\n",
       "      <th></th>\n",
       "      <th>cycle</th>\n",
       "      <th>ambient_temperature</th>\n",
       "      <th>datetime</th>\n",
       "      <th>capacity</th>\n",
       "      <th>ds</th>\n",
       "      <th>roll_2</th>\n",
       "      <th>roll_3</th>\n",
       "      <th>roll_4</th>\n",
       "      <th>roll_5</th>\n",
       "      <th>roll_7</th>\n",
       "      <th>roll_10</th>\n",
       "    </tr>\n",
       "  </thead>\n",
       "  <tbody>\n",
       "    <tr>\n",
       "      <th>0</th>\n",
       "      <td>1</td>\n",
       "      <td>24</td>\n",
       "      <td>2008-04-02 15:25:41</td>\n",
       "      <td>1.856487</td>\n",
       "      <td>2008-04-02 15:25:41</td>\n",
       "      <td>NaN</td>\n",
       "      <td>NaN</td>\n",
       "      <td>NaN</td>\n",
       "      <td>NaN</td>\n",
       "      <td>NaN</td>\n",
       "      <td>NaN</td>\n",
       "    </tr>\n",
       "    <tr>\n",
       "      <th>1</th>\n",
       "      <td>2</td>\n",
       "      <td>24</td>\n",
       "      <td>2008-04-02 19:43:48</td>\n",
       "      <td>1.846327</td>\n",
       "      <td>2008-04-02 19:43:48</td>\n",
       "      <td>1.851407</td>\n",
       "      <td>NaN</td>\n",
       "      <td>NaN</td>\n",
       "      <td>NaN</td>\n",
       "      <td>NaN</td>\n",
       "      <td>NaN</td>\n",
       "    </tr>\n",
       "    <tr>\n",
       "      <th>2</th>\n",
       "      <td>3</td>\n",
       "      <td>24</td>\n",
       "      <td>2008-04-03 00:01:06</td>\n",
       "      <td>1.835349</td>\n",
       "      <td>2008-04-03 00:01:06</td>\n",
       "      <td>1.840838</td>\n",
       "      <td>1.846055</td>\n",
       "      <td>NaN</td>\n",
       "      <td>NaN</td>\n",
       "      <td>NaN</td>\n",
       "      <td>NaN</td>\n",
       "    </tr>\n",
       "    <tr>\n",
       "      <th>3</th>\n",
       "      <td>4</td>\n",
       "      <td>24</td>\n",
       "      <td>2008-04-03 04:16:37</td>\n",
       "      <td>1.835263</td>\n",
       "      <td>2008-04-03 04:16:37</td>\n",
       "      <td>1.835306</td>\n",
       "      <td>1.838980</td>\n",
       "      <td>1.843357</td>\n",
       "      <td>NaN</td>\n",
       "      <td>NaN</td>\n",
       "      <td>NaN</td>\n",
       "    </tr>\n",
       "    <tr>\n",
       "      <th>4</th>\n",
       "      <td>5</td>\n",
       "      <td>24</td>\n",
       "      <td>2008-04-03 08:33:25</td>\n",
       "      <td>1.834646</td>\n",
       "      <td>2008-04-03 08:33:25</td>\n",
       "      <td>1.834954</td>\n",
       "      <td>1.835086</td>\n",
       "      <td>1.837896</td>\n",
       "      <td>1.841614</td>\n",
       "      <td>NaN</td>\n",
       "      <td>NaN</td>\n",
       "    </tr>\n",
       "  </tbody>\n",
       "</table>\n",
       "</div>"
      ],
      "text/plain": [
       "   cycle  ambient_temperature             datetime  capacity  \\\n",
       "0      1                   24  2008-04-02 15:25:41  1.856487   \n",
       "1      2                   24  2008-04-02 19:43:48  1.846327   \n",
       "2      3                   24  2008-04-03 00:01:06  1.835349   \n",
       "3      4                   24  2008-04-03 04:16:37  1.835263   \n",
       "4      5                   24  2008-04-03 08:33:25  1.834646   \n",
       "\n",
       "                   ds    roll_2    roll_3    roll_4    roll_5  roll_7  roll_10  \n",
       "0 2008-04-02 15:25:41       NaN       NaN       NaN       NaN     NaN      NaN  \n",
       "1 2008-04-02 19:43:48  1.851407       NaN       NaN       NaN     NaN      NaN  \n",
       "2 2008-04-03 00:01:06  1.840838  1.846055       NaN       NaN     NaN      NaN  \n",
       "3 2008-04-03 04:16:37  1.835306  1.838980  1.843357       NaN     NaN      NaN  \n",
       "4 2008-04-03 08:33:25  1.834954  1.835086  1.837896  1.841614     NaN      NaN  "
      ]
     },
     "execution_count": 25,
     "metadata": {},
     "output_type": "execute_result"
    }
   ],
   "source": [
    "df[\"roll_10\"] = df[\"capacity\"].rolling(10).mean()\n",
    "df.head()"
   ]
  },
  {
   "cell_type": "code",
   "execution_count": 26,
   "id": "f8e62beb",
   "metadata": {},
   "outputs": [],
   "source": [
    "df_2 = df.rename(columns = {\"roll_2\" : \"y\"})\n",
    "df_3 = df.rename(columns = {\"roll_3\" : \"y\"})\n",
    "df_4 = df.rename(columns = {\"roll_4\" : \"y\"})\n",
    "df_5 = df.rename(columns = {\"roll_5\" : \"y\"})\n",
    "df_7 = df.rename(columns = {\"roll_7\" : \"y\"})\n",
    "df_10 = df.rename(columns = {\"roll_10\" : \"y\"})"
   ]
  },
  {
   "cell_type": "code",
   "execution_count": 27,
   "id": "51a5ae9a",
   "metadata": {},
   "outputs": [],
   "source": [
    "from prophet import Prophet\n",
    "def fun_p(df_):    \n",
    "    m = Prophet()\n",
    "    m.fit(df_)\n",
    "    future = m.make_future_dataframe(periods=5)\n",
    "    forecast = m.predict(future)\n",
    "    forecast.rename(columns = {\"yhat\" : \"y\"}, inplace = True)\n",
    "    forecast = forecast[[\"ds\",\"y\"]]\n",
    "    forecast[\"y\"].plot()\n",
    "    df_[\"y\"].plot()\n",
    "    se = np.square(forecast['y'] - df[\"capacity\"])\n",
    "    mse = np.mean(se)\n",
    "    rmse = np.sqrt(mse)\n",
    "    print(\"rmse \" + str(rmse))\n",
    "    se = np.square(forecast['y'].tail(25)[:20] - df[\"capacity\"].tail(20))\n",
    "    mse = np.mean(se)\n",
    "    rmse_test = np.sqrt(mse)\n",
    "    print(\"rmse \" + str(rmse_test))\n",
    "    return [rmse,rmse_test]"
   ]
  },
  {
   "cell_type": "code",
   "execution_count": 28,
   "id": "277428a3",
   "metadata": {},
   "outputs": [
    {
     "data": {
      "text/html": [
       "<div>\n",
       "<style scoped>\n",
       "    .dataframe tbody tr th:only-of-type {\n",
       "        vertical-align: middle;\n",
       "    }\n",
       "\n",
       "    .dataframe tbody tr th {\n",
       "        vertical-align: top;\n",
       "    }\n",
       "\n",
       "    .dataframe thead th {\n",
       "        text-align: right;\n",
       "    }\n",
       "</style>\n",
       "<table border=\"1\" class=\"dataframe\">\n",
       "  <thead>\n",
       "    <tr style=\"text-align: right;\">\n",
       "      <th></th>\n",
       "      <th>cycle</th>\n",
       "      <th>ambient_temperature</th>\n",
       "      <th>ds</th>\n",
       "      <th>y</th>\n",
       "      <th>roll_2</th>\n",
       "      <th>roll_3</th>\n",
       "      <th>roll_4</th>\n",
       "      <th>roll_5</th>\n",
       "      <th>roll_7</th>\n",
       "      <th>roll_10</th>\n",
       "    </tr>\n",
       "  </thead>\n",
       "  <tbody>\n",
       "    <tr>\n",
       "      <th>0</th>\n",
       "      <td>1</td>\n",
       "      <td>24</td>\n",
       "      <td>2008-04-02 15:25:41</td>\n",
       "      <td>1.856487</td>\n",
       "      <td>NaN</td>\n",
       "      <td>NaN</td>\n",
       "      <td>NaN</td>\n",
       "      <td>NaN</td>\n",
       "      <td>NaN</td>\n",
       "      <td>NaN</td>\n",
       "    </tr>\n",
       "    <tr>\n",
       "      <th>1</th>\n",
       "      <td>2</td>\n",
       "      <td>24</td>\n",
       "      <td>2008-04-02 19:43:48</td>\n",
       "      <td>1.846327</td>\n",
       "      <td>1.851407</td>\n",
       "      <td>NaN</td>\n",
       "      <td>NaN</td>\n",
       "      <td>NaN</td>\n",
       "      <td>NaN</td>\n",
       "      <td>NaN</td>\n",
       "    </tr>\n",
       "    <tr>\n",
       "      <th>2</th>\n",
       "      <td>3</td>\n",
       "      <td>24</td>\n",
       "      <td>2008-04-03 00:01:06</td>\n",
       "      <td>1.835349</td>\n",
       "      <td>1.840838</td>\n",
       "      <td>1.846055</td>\n",
       "      <td>NaN</td>\n",
       "      <td>NaN</td>\n",
       "      <td>NaN</td>\n",
       "      <td>NaN</td>\n",
       "    </tr>\n",
       "    <tr>\n",
       "      <th>3</th>\n",
       "      <td>4</td>\n",
       "      <td>24</td>\n",
       "      <td>2008-04-03 04:16:37</td>\n",
       "      <td>1.835263</td>\n",
       "      <td>1.835306</td>\n",
       "      <td>1.838980</td>\n",
       "      <td>1.843357</td>\n",
       "      <td>NaN</td>\n",
       "      <td>NaN</td>\n",
       "      <td>NaN</td>\n",
       "    </tr>\n",
       "    <tr>\n",
       "      <th>4</th>\n",
       "      <td>5</td>\n",
       "      <td>24</td>\n",
       "      <td>2008-04-03 08:33:25</td>\n",
       "      <td>1.834646</td>\n",
       "      <td>1.834954</td>\n",
       "      <td>1.835086</td>\n",
       "      <td>1.837896</td>\n",
       "      <td>1.841614</td>\n",
       "      <td>NaN</td>\n",
       "      <td>NaN</td>\n",
       "    </tr>\n",
       "    <tr>\n",
       "      <th>...</th>\n",
       "      <td>...</td>\n",
       "      <td>...</td>\n",
       "      <td>...</td>\n",
       "      <td>...</td>\n",
       "      <td>...</td>\n",
       "      <td>...</td>\n",
       "      <td>...</td>\n",
       "      <td>...</td>\n",
       "      <td>...</td>\n",
       "      <td>...</td>\n",
       "    </tr>\n",
       "    <tr>\n",
       "      <th>163</th>\n",
       "      <td>164</td>\n",
       "      <td>24</td>\n",
       "      <td>2008-05-26 10:44:38</td>\n",
       "      <td>1.293464</td>\n",
       "      <td>1.295769</td>\n",
       "      <td>1.296475</td>\n",
       "      <td>1.298209</td>\n",
       "      <td>1.299238</td>\n",
       "      <td>1.301003</td>\n",
       "      <td>1.305233</td>\n",
       "    </tr>\n",
       "    <tr>\n",
       "      <th>164</th>\n",
       "      <td>165</td>\n",
       "      <td>24</td>\n",
       "      <td>2008-05-26 15:30:43</td>\n",
       "      <td>1.288003</td>\n",
       "      <td>1.290734</td>\n",
       "      <td>1.293180</td>\n",
       "      <td>1.294357</td>\n",
       "      <td>1.296168</td>\n",
       "      <td>1.298175</td>\n",
       "      <td>1.302170</td>\n",
       "    </tr>\n",
       "    <tr>\n",
       "      <th>165</th>\n",
       "      <td>166</td>\n",
       "      <td>24</td>\n",
       "      <td>2008-05-26 20:21:04</td>\n",
       "      <td>1.287453</td>\n",
       "      <td>1.287728</td>\n",
       "      <td>1.289640</td>\n",
       "      <td>1.291748</td>\n",
       "      <td>1.292976</td>\n",
       "      <td>1.295950</td>\n",
       "      <td>1.299568</td>\n",
       "    </tr>\n",
       "    <tr>\n",
       "      <th>166</th>\n",
       "      <td>167</td>\n",
       "      <td>24</td>\n",
       "      <td>2008-05-27 15:52:41</td>\n",
       "      <td>1.309015</td>\n",
       "      <td>1.298234</td>\n",
       "      <td>1.294824</td>\n",
       "      <td>1.294484</td>\n",
       "      <td>1.295202</td>\n",
       "      <td>1.296758</td>\n",
       "      <td>1.299149</td>\n",
       "    </tr>\n",
       "    <tr>\n",
       "      <th>167</th>\n",
       "      <td>168</td>\n",
       "      <td>24</td>\n",
       "      <td>2008-05-27 20:45:42</td>\n",
       "      <td>1.325079</td>\n",
       "      <td>1.317047</td>\n",
       "      <td>1.307182</td>\n",
       "      <td>1.302388</td>\n",
       "      <td>1.300603</td>\n",
       "      <td>1.299854</td>\n",
       "      <td>1.300878</td>\n",
       "    </tr>\n",
       "  </tbody>\n",
       "</table>\n",
       "<p>168 rows × 10 columns</p>\n",
       "</div>"
      ],
      "text/plain": [
       "     cycle  ambient_temperature                  ds         y    roll_2  \\\n",
       "0        1                   24 2008-04-02 15:25:41  1.856487       NaN   \n",
       "1        2                   24 2008-04-02 19:43:48  1.846327  1.851407   \n",
       "2        3                   24 2008-04-03 00:01:06  1.835349  1.840838   \n",
       "3        4                   24 2008-04-03 04:16:37  1.835263  1.835306   \n",
       "4        5                   24 2008-04-03 08:33:25  1.834646  1.834954   \n",
       "..     ...                  ...                 ...       ...       ...   \n",
       "163    164                   24 2008-05-26 10:44:38  1.293464  1.295769   \n",
       "164    165                   24 2008-05-26 15:30:43  1.288003  1.290734   \n",
       "165    166                   24 2008-05-26 20:21:04  1.287453  1.287728   \n",
       "166    167                   24 2008-05-27 15:52:41  1.309015  1.298234   \n",
       "167    168                   24 2008-05-27 20:45:42  1.325079  1.317047   \n",
       "\n",
       "       roll_3    roll_4    roll_5    roll_7   roll_10  \n",
       "0         NaN       NaN       NaN       NaN       NaN  \n",
       "1         NaN       NaN       NaN       NaN       NaN  \n",
       "2    1.846055       NaN       NaN       NaN       NaN  \n",
       "3    1.838980  1.843357       NaN       NaN       NaN  \n",
       "4    1.835086  1.837896  1.841614       NaN       NaN  \n",
       "..        ...       ...       ...       ...       ...  \n",
       "163  1.296475  1.298209  1.299238  1.301003  1.305233  \n",
       "164  1.293180  1.294357  1.296168  1.298175  1.302170  \n",
       "165  1.289640  1.291748  1.292976  1.295950  1.299568  \n",
       "166  1.294824  1.294484  1.295202  1.296758  1.299149  \n",
       "167  1.307182  1.302388  1.300603  1.299854  1.300878  \n",
       "\n",
       "[168 rows x 10 columns]"
      ]
     },
     "execution_count": 28,
     "metadata": {},
     "output_type": "execute_result"
    }
   ],
   "source": [
    "df_real"
   ]
  },
  {
   "cell_type": "code",
   "execution_count": 29,
   "id": "03e09b4f",
   "metadata": {},
   "outputs": [
    {
     "name": "stderr",
     "output_type": "stream",
     "text": [
      "11:18:31 - cmdstanpy - INFO - Chain [1] start processing\n",
      "11:18:32 - cmdstanpy - INFO - Chain [1] done processing\n"
     ]
    },
    {
     "name": "stdout",
     "output_type": "stream",
     "text": [
      "rmse 0.011767455896871046\n",
      "rmse 0.010620077860121747\n"
     ]
    },
    {
     "data": {
      "image/png": "[encoded data removed]",
      "text/plain": [
       "<Figure size 432x288 with 1 Axes>"
      ]
     },
     "metadata": {
      "needs_background": "light"
     },
     "output_type": "display_data"
    }
   ],
   "source": [
    "dic = {}\n",
    "dic_test = {}\n",
    "df_real = df.rename(columns = {\"capacity\" : \"y\"})\n",
    "arr = fun_p(df_real)\n",
    "dic[1] = arr[0]\n",
    "dic_test[1] = arr[1]"
   ]
  },
  {
   "cell_type": "code",
   "execution_count": 30,
   "id": "89a98060",
   "metadata": {},
   "outputs": [
    {
     "name": "stderr",
     "output_type": "stream",
     "text": [
      "11:18:34 - cmdstanpy - INFO - Chain [1] start processing\n",
      "11:18:34 - cmdstanpy - INFO - Chain [1] done processing\n"
     ]
    },
    {
     "name": "stdout",
     "output_type": "stream",
     "text": [
      "rmse 0.009931633653047401\n",
      "rmse 0.010395587978570757\n"
     ]
    },
    {
     "data": {
      "image/png": "[encoded data removed]",
      "text/plain": [
       "<Figure size 432x288 with 1 Axes>"
      ]
     },
     "metadata": {
      "needs_background": "light"
     },
     "output_type": "display_data"
    }
   ],
   "source": [
    "arr = fun_p(df_2)\n",
    "dic[2] = arr[0]\n",
    "dic_test[2] = arr[1]"
   ]
  },
  {
   "cell_type": "code",
   "execution_count": 31,
   "id": "d5007050",
   "metadata": {},
   "outputs": [
    {
     "name": "stderr",
     "output_type": "stream",
     "text": [
      "11:18:39 - cmdstanpy - INFO - Chain [1] start processing\n",
      "11:18:39 - cmdstanpy - INFO - Chain [1] done processing\n"
     ]
    },
    {
     "name": "stdout",
     "output_type": "stream",
     "text": [
      "rmse 0.010586588969771573\n",
      "rmse 0.011208507763570333\n"
     ]
    },
    {
     "data": {
      "image/png": "[encoded data removed]",
      "text/plain": [
       "<Figure size 432x288 with 1 Axes>"
      ]
     },
     "metadata": {
      "needs_background": "light"
     },
     "output_type": "display_data"
    }
   ],
   "source": [
    "arr = fun_p(df_3)\n",
    "dic[3] = arr[0]\n",
    "dic_test[3] = arr[1]"
   ]
  },
  {
   "cell_type": "code",
   "execution_count": 32,
   "id": "2600571d",
   "metadata": {},
   "outputs": [
    {
     "name": "stderr",
     "output_type": "stream",
     "text": [
      "11:18:40 - cmdstanpy - INFO - Chain [1] start processing\n",
      "11:18:40 - cmdstanpy - INFO - Chain [1] done processing\n"
     ]
    },
    {
     "name": "stdout",
     "output_type": "stream",
     "text": [
      "rmse 0.011976858270529647\n",
      "rmse 0.011735609483808595\n"
     ]
    },
    {
     "data": {
      "image/png": "[encoded data removed]",
      "text/plain": [
       "<Figure size 432x288 with 1 Axes>"
      ]
     },
     "metadata": {
      "needs_background": "light"
     },
     "output_type": "display_data"
    }
   ],
   "source": [
    "arr = fun_p(df_4)\n",
    "dic[4] = arr[0]\n",
    "dic_test[4] = arr[1]"
   ]
  },
  {
   "cell_type": "code",
   "execution_count": 33,
   "id": "4e000d4b",
   "metadata": {},
   "outputs": [
    {
     "name": "stderr",
     "output_type": "stream",
     "text": [
      "11:18:42 - cmdstanpy - INFO - Chain [1] start processing\n",
      "11:18:42 - cmdstanpy - INFO - Chain [1] done processing\n"
     ]
    },
    {
     "name": "stdout",
     "output_type": "stream",
     "text": [
      "rmse 0.0136312564837346\n",
      "rmse 0.012508984502340037\n"
     ]
    },
    {
     "data": {
      "image/png": "[encoded data removed]",
      "text/plain": [
       "<Figure size 432x288 with 1 Axes>"
      ]
     },
     "metadata": {
      "needs_background": "light"
     },
     "output_type": "display_data"
    }
   ],
   "source": [
    "arr = fun_p(df_5)\n",
    "dic[5] = arr[0]\n",
    "dic_test[5] = arr[1]"
   ]
  },
  {
   "cell_type": "code",
   "execution_count": 34,
   "id": "ba0b984e",
   "metadata": {},
   "outputs": [
    {
     "name": "stderr",
     "output_type": "stream",
     "text": [
      "11:18:43 - cmdstanpy - INFO - Chain [1] start processing\n",
      "11:18:44 - cmdstanpy - INFO - Chain [1] done processing\n"
     ]
    },
    {
     "name": "stdout",
     "output_type": "stream",
     "text": [
      "rmse 0.017245830936988248\n",
      "rmse 0.012945083157384182\n"
     ]
    },
    {
     "data": {
      "image/png": "[encoded data removed]",
      "text/plain": [
       "<Figure size 432x288 with 1 Axes>"
      ]
     },
     "metadata": {
      "needs_background": "light"
     },
     "output_type": "display_data"
    }
   ],
   "source": [
    "arr = fun_p(df_7)\n",
    "dic[7] = arr[0]\n",
    "dic_test[7] = arr[1]"
   ]
  },
  {
   "cell_type": "code",
   "execution_count": 35,
   "id": "dea22346",
   "metadata": {},
   "outputs": [
    {
     "name": "stderr",
     "output_type": "stream",
     "text": [
      "11:18:45 - cmdstanpy - INFO - Chain [1] start processing\n",
      "11:18:45 - cmdstanpy - INFO - Chain [1] done processing\n"
     ]
    },
    {
     "name": "stdout",
     "output_type": "stream",
     "text": [
      "rmse 0.010586588969771573\n",
      "rmse 0.011208507763570333\n"
     ]
    },
    {
     "data": {
      "image/png": "[encoded data removed]",
      "text/plain": [
       "<Figure size 432x288 with 1 Axes>"
      ]
     },
     "metadata": {
      "needs_background": "light"
     },
     "output_type": "display_data"
    }
   ],
   "source": [
    "arr = fun_p(df_3)\n",
    "dic[10] = arr[0]\n",
    "dic_test[10] = arr[1]"
   ]
  },
  {
   "cell_type": "code",
   "execution_count": 36,
   "id": "96e8d59c",
   "metadata": {},
   "outputs": [
    {
     "data": {
      "image/png": "[encoded data removed]",
      "text/plain": [
       "<Figure size 432x288 with 1 Axes>"
      ]
     },
     "metadata": {
      "needs_background": "light"
     },
     "output_type": "display_data"
    }
   ],
   "source": [
    "#names = list(dic.keys())\n",
    "#values = list(dic.values())\n",
    "#plt.plot(names,values)\n",
    "names = list(dic_test.keys())\n",
    "values = list(dic_test.values())\n",
    "plt.plot(names,values)\n",
    "plt.xlabel(\"Rolling Number\")\n",
    "plt.ylabel(\"RMSE\")\n",
    "plt.show()"
   ]
  },
  {
   "cell_type": "code",
   "execution_count": 46,
   "id": "9e23826d",
   "metadata": {},
   "outputs": [
    {
     "name": "stderr",
     "output_type": "stream",
     "text": [
      "12:29:47 - cmdstanpy - INFO - Chain [1] start processing\n",
      "12:29:47 - cmdstanpy - INFO - Chain [1] done processing\n"
     ]
    },
    {
     "name": "stdout",
     "output_type": "stream",
     "text": [
      "rmse 0.009931633653047401\n"
     ]
    },
    {
     "data": {
      "image/png": "[encoded data removed]",
      "text/plain": [
       "<Figure size 432x288 with 1 Axes>"
      ]
     },
     "metadata": {
      "needs_background": "light"
     },
     "output_type": "display_data"
    }
   ],
   "source": [
    "m = Prophet()\n",
    "m.fit(df_2)\n",
    "future = m.make_future_dataframe(periods=5)\n",
    "forecast = m.predict(future)\n",
    "forecast.rename(columns = {\"yhat\" : \"y\"}, inplace = True)\n",
    "forecast = forecast[[\"ds\",\"y\"]]\n",
    "forecast[\"y\"].plot()\n",
    "df_2[\"y\"].plot()\n",
    "se = np.square(forecast['y'] - df[\"capacity\"])\n",
    "mse = np.mean(se)\n",
    "rmse = np.sqrt(mse)\n",
    "print(\"rmse \" + str(rmse))"
   ]
  }
 ],
 "metadata": {
  "kernelspec": {
   "display_name": "Python 3 (ipykernel)",
   "language": "python",
   "name": "python3"
  },
  "language_info": {
   "codemirror_mode": {
    "name": "ipython",
    "version": 3
   },
   "file_extension": ".py",
   "mimetype": "text/x-python",
   "name": "python",
   "nbconvert_exporter": "python",
   "pygments_lexer": "ipython3",
   "version": "3.9.7"
  }
 },
 "nbformat": 4,
 "nbformat_minor": 5
}
