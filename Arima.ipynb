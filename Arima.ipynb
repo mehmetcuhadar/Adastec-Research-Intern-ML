{
 "cells": [
  {
   "cell_type": "code",
   "execution_count": 1,
   "id": "0ea6aef4",
   "metadata": {},
   "outputs": [],
   "source": [
    "import pandas as pd\n",
    "import numpy as np\n",
    "import matplotlib.pyplot as plt\n",
    "import seaborn as sns"
   ]
  },
  {
   "cell_type": "code",
   "execution_count": 3,
   "id": "61d4a96e",
   "metadata": {},
   "outputs": [],
   "source": [
    "df = pd.read_csv(\"cap5.csv\")"
   ]
  },
  {
   "cell_type": "code",
   "execution_count": 4,
   "id": "ea2d4f6e",
   "metadata": {},
   "outputs": [
    {
     "data": {
      "text/html": [
       "<div>\n",
       "<style scoped>\n",
       "    .dataframe tbody tr th:only-of-type {\n",
       "        vertical-align: middle;\n",
       "    }\n",
       "\n",
       "    .dataframe tbody tr th {\n",
       "        vertical-align: top;\n",
       "    }\n",
       "\n",
       "    .dataframe thead th {\n",
       "        text-align: right;\n",
       "    }\n",
       "</style>\n",
       "<table border=\"1\" class=\"dataframe\">\n",
       "  <thead>\n",
       "    <tr style=\"text-align: right;\">\n",
       "      <th></th>\n",
       "      <th>datetime</th>\n",
       "      <th>capacity</th>\n",
       "    </tr>\n",
       "  </thead>\n",
       "  <tbody>\n",
       "    <tr>\n",
       "      <th>0</th>\n",
       "      <td>2008-04-02 15:25:41</td>\n",
       "      <td>1.856487</td>\n",
       "    </tr>\n",
       "    <tr>\n",
       "      <th>1</th>\n",
       "      <td>2008-04-02 19:43:48</td>\n",
       "      <td>1.846327</td>\n",
       "    </tr>\n",
       "    <tr>\n",
       "      <th>2</th>\n",
       "      <td>2008-04-03 00:01:06</td>\n",
       "      <td>1.835349</td>\n",
       "    </tr>\n",
       "    <tr>\n",
       "      <th>3</th>\n",
       "      <td>2008-04-03 04:16:37</td>\n",
       "      <td>1.835263</td>\n",
       "    </tr>\n",
       "    <tr>\n",
       "      <th>4</th>\n",
       "      <td>2008-04-03 08:33:25</td>\n",
       "      <td>1.834646</td>\n",
       "    </tr>\n",
       "  </tbody>\n",
       "</table>\n",
       "</div>"
      ],
      "text/plain": [
       "             datetime  capacity\n",
       "0 2008-04-02 15:25:41  1.856487\n",
       "1 2008-04-02 19:43:48  1.846327\n",
       "2 2008-04-03 00:01:06  1.835349\n",
       "3 2008-04-03 04:16:37  1.835263\n",
       "4 2008-04-03 08:33:25  1.834646"
      ]
     },
     "execution_count": 4,
     "metadata": {},
     "output_type": "execute_result"
    }
   ],
   "source": [
    "df[\"datetime\"] = pd.to_datetime(df[\"datetime\"],format = \"%Y-%m-%d %H:%M:%S\")\n",
    "df.drop([\"cycle\",\"ambient_temperature\"],inplace=True,axis=1)\n",
    "df.head()"
   ]
  },
  {
   "cell_type": "code",
   "execution_count": 5,
   "id": "fda200f9",
   "metadata": {},
   "outputs": [
    {
     "name": "stdout",
     "output_type": "stream",
     "text": [
      "ADF Statistic: -0.525685\n",
      "p-value: 0.886906\n"
     ]
    },
    {
     "name": "stderr",
     "output_type": "stream",
     "text": [
      "C:\\Users\\mehme\\anaconda3\\lib\\site-packages\\statsmodels\\tsa\\base\\tsa_model.py:7: FutureWarning: pandas.Int64Index is deprecated and will be removed from pandas in a future version. Use pandas.Index with the appropriate dtype instead.\n",
      "  from pandas import (to_datetime, Int64Index, DatetimeIndex, Period,\n",
      "C:\\Users\\mehme\\anaconda3\\lib\\site-packages\\statsmodels\\tsa\\base\\tsa_model.py:7: FutureWarning: pandas.Float64Index is deprecated and will be removed from pandas in a future version. Use pandas.Index with the appropriate dtype instead.\n",
      "  from pandas import (to_datetime, Int64Index, DatetimeIndex, Period,\n"
     ]
    }
   ],
   "source": [
    "from statsmodels.tsa.stattools import adfuller\n",
    "from numpy import log\n",
    "result = adfuller(df[\"capacity\"])\n",
    "print('ADF Statistic: %f' % result[0])\n",
    "print('p-value: %f' % result[1])\n",
    "#p-value is greater than 0.05, so it is non-stationary"
   ]
  },
  {
   "cell_type": "code",
   "execution_count": 6,
   "id": "64fa32a2",
   "metadata": {},
   "outputs": [
    {
     "name": "stdout",
     "output_type": "stream",
     "text": [
      "1\n",
      "1\n",
      "1\n"
     ]
    }
   ],
   "source": [
    "from pmdarima.arima.utils import ndiffs\n",
    "y = df[\"capacity\"]\n",
    "\n",
    "## Adf Test\n",
    "print(ndiffs(y, test='adf')) \n",
    "\n",
    "# KPSS test\n",
    "print(ndiffs(y, test='kpss')) \n",
    "\n",
    "# PP test:\n",
    "print(ndiffs(y, test='pp'))  "
   ]
  },
  {
   "cell_type": "code",
   "execution_count": 31,
   "id": "8122ec27",
   "metadata": {},
   "outputs": [
    {
     "name": "stdout",
     "output_type": "stream",
     "text": [
      "Performing stepwise search to minimize aic\n",
      " ARIMA(1,1,1)(0,1,1)[12]             : AIC=inf, Time=0.89 sec\n",
      " ARIMA(0,1,0)(0,1,0)[12]             : AIC=-801.283, Time=0.11 sec\n",
      " ARIMA(1,1,0)(1,1,0)[12]             : AIC=-837.047, Time=0.20 sec\n",
      " ARIMA(0,1,1)(0,1,1)[12]             : AIC=inf, Time=0.89 sec\n",
      " ARIMA(1,1,0)(0,1,0)[12]             : AIC=-802.734, Time=0.12 sec\n",
      " ARIMA(1,1,0)(2,1,0)[12]             : AIC=-847.309, Time=1.05 sec\n",
      " ARIMA(1,1,0)(2,1,1)[12]             : AIC=inf, Time=1.75 sec\n",
      " ARIMA(1,1,0)(1,1,1)[12]             : AIC=inf, Time=0.93 sec\n",
      " ARIMA(0,1,0)(2,1,0)[12]             : AIC=-847.350, Time=0.51 sec\n",
      " ARIMA(0,1,0)(1,1,0)[12]             : AIC=-836.936, Time=0.13 sec\n",
      " ARIMA(0,1,0)(2,1,1)[12]             : AIC=inf, Time=2.09 sec\n",
      " ARIMA(0,1,0)(1,1,1)[12]             : AIC=inf, Time=0.71 sec\n",
      " ARIMA(0,1,1)(2,1,0)[12]             : AIC=-848.120, Time=0.68 sec\n",
      " ARIMA(0,1,1)(1,1,0)[12]             : AIC=-837.946, Time=0.16 sec\n",
      " ARIMA(0,1,1)(2,1,1)[12]             : AIC=inf, Time=1.78 sec\n",
      " ARIMA(0,1,1)(1,1,1)[12]             : AIC=-871.796, Time=0.48 sec\n",
      " ARIMA(0,1,1)(1,1,2)[12]             : AIC=inf, Time=1.04 sec\n",
      " ARIMA(0,1,1)(0,1,0)[12]             : AIC=-804.827, Time=0.15 sec\n",
      " ARIMA(0,1,1)(0,1,2)[12]             : AIC=inf, Time=1.94 sec\n",
      " ARIMA(0,1,1)(2,1,2)[12]             : AIC=inf, Time=1.97 sec\n",
      " ARIMA(1,1,1)(1,1,1)[12]             : AIC=inf, Time=0.64 sec\n",
      " ARIMA(0,1,2)(1,1,1)[12]             : AIC=inf, Time=0.82 sec\n",
      " ARIMA(1,1,2)(1,1,1)[12]             : AIC=inf, Time=1.08 sec\n",
      " ARIMA(0,1,1)(1,1,1)[12] intercept   : AIC=-872.102, Time=0.79 sec\n",
      " ARIMA(0,1,1)(0,1,1)[12] intercept   : AIC=inf, Time=0.64 sec\n",
      " ARIMA(0,1,1)(1,1,0)[12] intercept   : AIC=-835.992, Time=0.46 sec\n",
      " ARIMA(0,1,1)(2,1,1)[12] intercept   : AIC=inf, Time=2.04 sec\n",
      " ARIMA(0,1,1)(1,1,2)[12] intercept   : AIC=inf, Time=3.14 sec\n",
      " ARIMA(0,1,1)(0,1,0)[12] intercept   : AIC=-802.899, Time=0.17 sec\n",
      " ARIMA(0,1,1)(0,1,2)[12] intercept   : AIC=inf, Time=1.94 sec\n",
      " ARIMA(0,1,1)(2,1,0)[12] intercept   : AIC=-846.155, Time=0.66 sec\n",
      " ARIMA(0,1,1)(2,1,2)[12] intercept   : AIC=inf, Time=2.68 sec\n",
      " ARIMA(0,1,0)(1,1,1)[12] intercept   : AIC=inf, Time=1.15 sec\n",
      " ARIMA(1,1,1)(1,1,1)[12] intercept   : AIC=inf, Time=1.15 sec\n",
      " ARIMA(0,1,2)(1,1,1)[12] intercept   : AIC=-871.456, Time=1.44 sec\n",
      " ARIMA(1,1,0)(1,1,1)[12] intercept   : AIC=inf, Time=0.88 sec\n",
      " ARIMA(1,1,2)(1,1,1)[12] intercept   : AIC=-867.662, Time=1.54 sec\n",
      "\n",
      "Best model:  ARIMA(0,1,1)(1,1,1)[12] intercept\n",
      "Total fit time: 38.831 seconds\n"
     ]
    }
   ],
   "source": [
    "from pmdarima.arima import auto_arima\n",
    "\n",
    "arima_model = auto_arima(df['capacity'], \n",
    "                           start_p=1, start_q=1,\n",
    "                           test='adf',\n",
    "                           max_p=3, max_q=3, m=12,\n",
    "                           start_P=0, seasonal=True,\n",
    "                           d=None, D=1, trace=True,\n",
    "                           error_action='ignore',  \n",
    "                           suppress_warnings=True, \n",
    "                           stepwise=True)"
   ]
  },
  {
   "cell_type": "code",
   "execution_count": 32,
   "id": "eb4757c2",
   "metadata": {},
   "outputs": [
    {
     "name": "stdout",
     "output_type": "stream",
     "text": [
      "                                     SARIMAX Results                                      \n",
      "==========================================================================================\n",
      "Dep. Variable:                                  y   No. Observations:                  168\n",
      "Model:             SARIMAX(0, 1, 1)x(1, 1, 1, 12)   Log Likelihood                 441.051\n",
      "Date:                            Tue, 16 Aug 2022   AIC                           -872.102\n",
      "Time:                                    17:11:25   BIC                           -856.885\n",
      "Sample:                                         0   HQIC                          -865.922\n",
      "                                            - 168                                         \n",
      "Covariance Type:                              opg                                         \n",
      "==============================================================================\n",
      "                 coef    std err          z      P>|z|      [0.025      0.975]\n",
      "------------------------------------------------------------------------------\n",
      "intercept   6.457e-05      0.000      0.185      0.853      -0.001       0.001\n",
      "ma.L1         -0.1635      0.069     -2.364      0.018      -0.299      -0.028\n",
      "ar.S.L12       0.0167      0.098      0.170      0.865      -0.176       0.210\n",
      "ma.S.L12      -0.8772      0.156     -5.610      0.000      -1.184      -0.571\n",
      "sigma2         0.0002   1.91e-05      9.276      0.000       0.000       0.000\n",
      "===================================================================================\n",
      "Ljung-Box (L1) (Q):                   0.00   Jarque-Bera (JB):              1320.15\n",
      "Prob(Q):                              0.98   Prob(JB):                         0.00\n",
      "Heteroskedasticity (H):               0.54   Skew:                             2.71\n",
      "Prob(H) (two-sided):                  0.03   Kurtosis:                        16.23\n",
      "===================================================================================\n",
      "\n",
      "Warnings:\n",
      "[1] Covariance matrix calculated using the outer product of gradients (complex-step).\n"
     ]
    }
   ],
   "source": [
    "print(arima_model.summary() ) #Note down the Model and details.\n"
   ]
  },
  {
   "cell_type": "code",
   "execution_count": 33,
   "id": "6305fd26",
   "metadata": {},
   "outputs": [],
   "source": [
    "size = int(len(df) * 0.90)\n",
    "X_train, X_test = df[0:size], df[size:len(df)]"
   ]
  },
  {
   "cell_type": "code",
   "execution_count": 34,
   "id": "98c56234",
   "metadata": {},
   "outputs": [
    {
     "name": "stderr",
     "output_type": "stream",
     "text": [
      "C:\\Users\\mehme\\anaconda3\\lib\\site-packages\\statsmodels\\base\\model.py:566: ConvergenceWarning: Maximum Likelihood optimization failed to converge. Check mle_retvals\n",
      "  warnings.warn(\"Maximum Likelihood optimization failed to \"\n"
     ]
    },
    {
     "data": {
      "text/html": [
       "<table class=\"simpletable\">\n",
       "<caption>SARIMAX Results</caption>\n",
       "<tr>\n",
       "  <th>Dep. Variable:</th>              <td>capacity</td>            <th>  No. Observations:  </th>    <td>151</td>  \n",
       "</tr>\n",
       "<tr>\n",
       "  <th>Model:</th>           <td>SARIMAX(0, 1, 1)x(1, 1, 1, 12)</td> <th>  Log Likelihood     </th>  <td>388.860</td>\n",
       "</tr>\n",
       "<tr>\n",
       "  <th>Date:</th>                   <td>Tue, 16 Aug 2022</td>        <th>  AIC                </th> <td>-769.721</td>\n",
       "</tr>\n",
       "<tr>\n",
       "  <th>Time:</th>                       <td>17:11:43</td>            <th>  BIC                </th> <td>-758.012</td>\n",
       "</tr>\n",
       "<tr>\n",
       "  <th>Sample:</th>                         <td>0</td>               <th>  HQIC               </th> <td>-764.962</td>\n",
       "</tr>\n",
       "<tr>\n",
       "  <th></th>                             <td> - 151</td>             <th>                     </th>     <td> </td>   \n",
       "</tr>\n",
       "<tr>\n",
       "  <th>Covariance Type:</th>               <td>opg</td>              <th>                     </th>     <td> </td>   \n",
       "</tr>\n",
       "</table>\n",
       "<table class=\"simpletable\">\n",
       "<tr>\n",
       "      <td></td>        <th>coef</th>     <th>std err</th>      <th>z</th>      <th>P>|z|</th>  <th>[0.025</th>    <th>0.975]</th>  \n",
       "</tr>\n",
       "<tr>\n",
       "  <th>ma.L1</th>    <td>   -0.2089</td> <td>    0.074</td> <td>   -2.808</td> <td> 0.005</td> <td>   -0.355</td> <td>   -0.063</td>\n",
       "</tr>\n",
       "<tr>\n",
       "  <th>ar.S.L12</th> <td>    0.0540</td> <td>    0.105</td> <td>    0.512</td> <td> 0.608</td> <td>   -0.153</td> <td>    0.261</td>\n",
       "</tr>\n",
       "<tr>\n",
       "  <th>ma.S.L12</th> <td>   -0.9822</td> <td>    1.142</td> <td>   -0.860</td> <td> 0.390</td> <td>   -3.221</td> <td>    1.257</td>\n",
       "</tr>\n",
       "<tr>\n",
       "  <th>sigma2</th>   <td>    0.0002</td> <td>    0.000</td> <td>    0.929</td> <td> 0.353</td> <td>   -0.000</td> <td>    0.001</td>\n",
       "</tr>\n",
       "</table>\n",
       "<table class=\"simpletable\">\n",
       "<tr>\n",
       "  <th>Ljung-Box (L1) (Q):</th>     <td>0.07</td> <th>  Jarque-Bera (JB):  </th> <td>1228.46</td>\n",
       "</tr>\n",
       "<tr>\n",
       "  <th>Prob(Q):</th>                <td>0.79</td> <th>  Prob(JB):          </th>  <td>0.00</td>  \n",
       "</tr>\n",
       "<tr>\n",
       "  <th>Heteroskedasticity (H):</th> <td>0.46</td> <th>  Skew:              </th>  <td>2.84</td>  \n",
       "</tr>\n",
       "<tr>\n",
       "  <th>Prob(H) (two-sided):</th>    <td>0.01</td> <th>  Kurtosis:          </th>  <td>16.47</td> \n",
       "</tr>\n",
       "</table><br/><br/>Warnings:<br/>[1] Covariance matrix calculated using the outer product of gradients (complex-step)."
      ],
      "text/plain": [
       "<class 'statsmodels.iolib.summary.Summary'>\n",
       "\"\"\"\n",
       "                                     SARIMAX Results                                      \n",
       "==========================================================================================\n",
       "Dep. Variable:                           capacity   No. Observations:                  151\n",
       "Model:             SARIMAX(0, 1, 1)x(1, 1, 1, 12)   Log Likelihood                 388.860\n",
       "Date:                            Tue, 16 Aug 2022   AIC                           -769.721\n",
       "Time:                                    17:11:43   BIC                           -758.012\n",
       "Sample:                                         0   HQIC                          -764.962\n",
       "                                            - 151                                         \n",
       "Covariance Type:                              opg                                         \n",
       "==============================================================================\n",
       "                 coef    std err          z      P>|z|      [0.025      0.975]\n",
       "------------------------------------------------------------------------------\n",
       "ma.L1         -0.2089      0.074     -2.808      0.005      -0.355      -0.063\n",
       "ar.S.L12       0.0540      0.105      0.512      0.608      -0.153       0.261\n",
       "ma.S.L12      -0.9822      1.142     -0.860      0.390      -3.221       1.257\n",
       "sigma2         0.0002      0.000      0.929      0.353      -0.000       0.001\n",
       "===================================================================================\n",
       "Ljung-Box (L1) (Q):                   0.07   Jarque-Bera (JB):              1228.46\n",
       "Prob(Q):                              0.79   Prob(JB):                         0.00\n",
       "Heteroskedasticity (H):               0.46   Skew:                             2.84\n",
       "Prob(H) (two-sided):                  0.01   Kurtosis:                        16.47\n",
       "===================================================================================\n",
       "\n",
       "Warnings:\n",
       "[1] Covariance matrix calculated using the outer product of gradients (complex-step).\n",
       "\"\"\""
      ]
     },
     "execution_count": 34,
     "metadata": {},
     "output_type": "execute_result"
    }
   ],
   "source": [
    "from statsmodels.tsa.statespace.sarimax import SARIMAX \n",
    "  \n",
    "model = SARIMAX(X_train['capacity'],  \n",
    "                order = (0,1,1),  \n",
    "                seasonal_order =(1,1,1,12)) \n",
    "  \n",
    "result = model.fit() \n",
    "result.summary() \n"
   ]
  },
  {
   "cell_type": "code",
   "execution_count": 21,
   "id": "14ada270",
   "metadata": {},
   "outputs": [
    {
     "data": {
      "text/html": [
       "<table class=\"simpletable\">\n",
       "<caption>SARIMAX Results</caption>\n",
       "<tr>\n",
       "  <th>Dep. Variable:</th>       <td>capacity</td>     <th>  No. Observations:  </th>    <td>151</td>  \n",
       "</tr>\n",
       "<tr>\n",
       "  <th>Model:</th>            <td>ARIMA(1, 0, 1)</td>  <th>  Log Likelihood     </th>  <td>431.211</td>\n",
       "</tr>\n",
       "<tr>\n",
       "  <th>Date:</th>            <td>Tue, 16 Aug 2022</td> <th>  AIC                </th> <td>-854.422</td>\n",
       "</tr>\n",
       "<tr>\n",
       "  <th>Time:</th>                <td>17:08:42</td>     <th>  BIC                </th> <td>-842.353</td>\n",
       "</tr>\n",
       "<tr>\n",
       "  <th>Sample:</th>                  <td>0</td>        <th>  HQIC               </th> <td>-849.519</td>\n",
       "</tr>\n",
       "<tr>\n",
       "  <th></th>                      <td> - 151</td>      <th>                     </th>     <td> </td>   \n",
       "</tr>\n",
       "<tr>\n",
       "  <th>Covariance Type:</th>        <td>opg</td>       <th>                     </th>     <td> </td>   \n",
       "</tr>\n",
       "</table>\n",
       "<table class=\"simpletable\">\n",
       "<tr>\n",
       "     <td></td>       <th>coef</th>     <th>std err</th>      <th>z</th>      <th>P>|z|</th>  <th>[0.025</th>    <th>0.975]</th>  \n",
       "</tr>\n",
       "<tr>\n",
       "  <th>const</th>  <td>    1.6033</td> <td>    0.215</td> <td>    7.473</td> <td> 0.000</td> <td>    1.183</td> <td>    2.024</td>\n",
       "</tr>\n",
       "<tr>\n",
       "  <th>ar.L1</th>  <td>    0.9977</td> <td>    0.007</td> <td>  140.946</td> <td> 0.000</td> <td>    0.984</td> <td>    1.012</td>\n",
       "</tr>\n",
       "<tr>\n",
       "  <th>ma.L1</th>  <td>   -0.0296</td> <td>    0.052</td> <td>   -0.574</td> <td> 0.566</td> <td>   -0.131</td> <td>    0.072</td>\n",
       "</tr>\n",
       "<tr>\n",
       "  <th>sigma2</th> <td>    0.0002</td> <td> 8.69e-06</td> <td>   21.521</td> <td> 0.000</td> <td>    0.000</td> <td>    0.000</td>\n",
       "</tr>\n",
       "</table>\n",
       "<table class=\"simpletable\">\n",
       "<tr>\n",
       "  <th>Ljung-Box (L1) (Q):</th>     <td>0.92</td> <th>  Jarque-Bera (JB):  </th> <td>2479.58</td>\n",
       "</tr>\n",
       "<tr>\n",
       "  <th>Prob(Q):</th>                <td>0.34</td> <th>  Prob(JB):          </th>  <td>0.00</td>  \n",
       "</tr>\n",
       "<tr>\n",
       "  <th>Heteroskedasticity (H):</th> <td>0.47</td> <th>  Skew:              </th>  <td>3.54</td>  \n",
       "</tr>\n",
       "<tr>\n",
       "  <th>Prob(H) (two-sided):</th>    <td>0.01</td> <th>  Kurtosis:          </th>  <td>21.54</td> \n",
       "</tr>\n",
       "</table><br/><br/>Warnings:<br/>[1] Covariance matrix calculated using the outer product of gradients (complex-step)."
      ],
      "text/plain": [
       "<class 'statsmodels.iolib.summary.Summary'>\n",
       "\"\"\"\n",
       "                               SARIMAX Results                                \n",
       "==============================================================================\n",
       "Dep. Variable:               capacity   No. Observations:                  151\n",
       "Model:                 ARIMA(1, 0, 1)   Log Likelihood                 431.211\n",
       "Date:                Tue, 16 Aug 2022   AIC                           -854.422\n",
       "Time:                        17:08:42   BIC                           -842.353\n",
       "Sample:                             0   HQIC                          -849.519\n",
       "                                - 151                                         \n",
       "Covariance Type:                  opg                                         \n",
       "==============================================================================\n",
       "                 coef    std err          z      P>|z|      [0.025      0.975]\n",
       "------------------------------------------------------------------------------\n",
       "const          1.6033      0.215      7.473      0.000       1.183       2.024\n",
       "ar.L1          0.9977      0.007    140.946      0.000       0.984       1.012\n",
       "ma.L1         -0.0296      0.052     -0.574      0.566      -0.131       0.072\n",
       "sigma2         0.0002   8.69e-06     21.521      0.000       0.000       0.000\n",
       "===================================================================================\n",
       "Ljung-Box (L1) (Q):                   0.92   Jarque-Bera (JB):              2479.58\n",
       "Prob(Q):                              0.34   Prob(JB):                         0.00\n",
       "Heteroskedasticity (H):               0.47   Skew:                             3.54\n",
       "Prob(H) (two-sided):                  0.01   Kurtosis:                        21.54\n",
       "===================================================================================\n",
       "\n",
       "Warnings:\n",
       "[1] Covariance matrix calculated using the outer product of gradients (complex-step).\n",
       "\"\"\""
      ]
     },
     "execution_count": 21,
     "metadata": {},
     "output_type": "execute_result"
    }
   ],
   "source": [
    "from statsmodels.tsa.arima.model import ARIMA\n",
    "arima_model = ARIMA(X_train.capacity, order = (1,0,1))\n",
    "result = arima_model.fit()\n",
    "result.summary()"
   ]
  },
  {
   "cell_type": "code",
   "execution_count": 35,
   "id": "4d4c0fe1",
   "metadata": {},
   "outputs": [
    {
     "data": {
      "text/plain": [
       "<AxesSubplot:>"
      ]
     },
     "execution_count": 35,
     "metadata": {},
     "output_type": "execute_result"
    },
    {
     "data": {
      "image/png": "[encoded data removed]",
      "text/plain": [
       "<Figure size 432x288 with 1 Axes>"
      ]
     },
     "metadata": {
      "needs_background": "light"
     },
     "output_type": "display_data"
    }
   ],
   "source": [
    "start_index = 0\n",
    "end_index = len(X_train)-1\n",
    "train_prediction = result.predict(start_index, end_index) \n",
    "\n",
    "#Prediction\n",
    "start_index = len(X_train)\n",
    "end_index = len(df)-1\n",
    "prediction = result.predict(start_index, end_index)\n",
    "#Rename the column\n",
    "\n",
    "# plot predictions and actual values \n",
    "prediction.plot(legend = True) \n",
    "X_test['capacity'].plot(legend = True) \n"
   ]
  },
  {
   "cell_type": "code",
   "execution_count": 38,
   "id": "f8950051",
   "metadata": {},
   "outputs": [
    {
     "name": "stdout",
     "output_type": "stream",
     "text": [
      "Train Score: 0.16951 RMSE\n",
      "Test Score: 0.01514 RMSE\n"
     ]
    }
   ],
   "source": [
    "import math\n",
    "from sklearn.metrics import mean_squared_error\n",
    "# calculate root mean squared error\n",
    "trainScore = math.sqrt(mean_squared_error(X_train[\"capacity\"], train_prediction))\n",
    "print('Train Score: %.5f RMSE' % (trainScore))\n",
    "testScore = math.sqrt(mean_squared_error(X_test[\"capacity\"], prediction))\n",
    "print('Test Score: %.5f RMSE' % (testScore))\n"
   ]
  },
  {
   "cell_type": "code",
   "execution_count": 39,
   "id": "4179ac4b",
   "metadata": {},
   "outputs": [
    {
     "data": {
      "image/png": "[encoded data removed]",
      "text/plain": [
       "<Figure size 864x576 with 1 Axes>"
      ]
     },
     "metadata": {
      "needs_background": "light"
     },
     "output_type": "display_data"
    }
   ],
   "source": [
    "forecast = result.predict(start = len(df),  \n",
    "                          end = (len(df)-1) + 3 * 12,  \n",
    "                          typ = 'levels').rename('Forecast') \n",
    "  \n",
    "plt.figure(figsize=(12,8))\n",
    "plt.plot(X_train[\"capacity\"], label='Training', color='green')\n",
    "plt.plot(X_test[\"capacity\"], label='Test', color='yellow')\n",
    "plt.plot(forecast, label='Forecast', color='cyan')\n",
    "plt.legend(loc='upper right')\n",
    "plt.show()"
   ]
  },
  {
   "cell_type": "code",
   "execution_count": null,
   "id": "78c33cad",
   "metadata": {},
   "outputs": [],
   "source": []
  }
 ],
 "metadata": {
  "kernelspec": {
   "display_name": "Python 3 (ipykernel)",
   "language": "python",
   "name": "python3"
  },
  "language_info": {
   "codemirror_mode": {
    "name": "ipython",
    "version": 3
   },
   "file_extension": ".py",
   "mimetype": "text/x-python",
   "name": "python",
   "nbconvert_exporter": "python",
   "pygments_lexer": "ipython3",
   "version": "3.9.7"
  }
 },
 "nbformat": 4,
 "nbformat_minor": 5
}
