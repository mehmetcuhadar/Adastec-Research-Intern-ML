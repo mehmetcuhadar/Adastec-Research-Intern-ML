{
 "cells": [
  {
   "cell_type": "code",
   "execution_count": 1,
   "id": "7dbf12ff",
   "metadata": {},
   "outputs": [],
   "source": [
    "import pandas as pd\n",
    "import numpy as np\n",
    "import matplotlib.pyplot as plt\n",
    "import seaborn as sns"
   ]
  },
  {
   "cell_type": "code",
   "execution_count": 2,
   "id": "22f14e8a",
   "metadata": {},
   "outputs": [
    {
     "data": {
      "text/html": [
       "<div>\n",
       "<style scoped>\n",
       "    .dataframe tbody tr th:only-of-type {\n",
       "        vertical-align: middle;\n",
       "    }\n",
       "\n",
       "    .dataframe tbody tr th {\n",
       "        vertical-align: top;\n",
       "    }\n",
       "\n",
       "    .dataframe thead th {\n",
       "        text-align: right;\n",
       "    }\n",
       "</style>\n",
       "<table border=\"1\" class=\"dataframe\">\n",
       "  <thead>\n",
       "    <tr style=\"text-align: right;\">\n",
       "      <th></th>\n",
       "      <th>cycle</th>\n",
       "      <th>ambient_temperature</th>\n",
       "      <th>datetime</th>\n",
       "      <th>capacity</th>\n",
       "    </tr>\n",
       "  </thead>\n",
       "  <tbody>\n",
       "    <tr>\n",
       "      <th>0</th>\n",
       "      <td>1</td>\n",
       "      <td>24</td>\n",
       "      <td>2008-04-02 15:25:41</td>\n",
       "      <td>1.856487</td>\n",
       "    </tr>\n",
       "    <tr>\n",
       "      <th>1</th>\n",
       "      <td>2</td>\n",
       "      <td>24</td>\n",
       "      <td>2008-04-02 19:43:48</td>\n",
       "      <td>1.846327</td>\n",
       "    </tr>\n",
       "    <tr>\n",
       "      <th>2</th>\n",
       "      <td>3</td>\n",
       "      <td>24</td>\n",
       "      <td>2008-04-03 00:01:06</td>\n",
       "      <td>1.835349</td>\n",
       "    </tr>\n",
       "    <tr>\n",
       "      <th>3</th>\n",
       "      <td>4</td>\n",
       "      <td>24</td>\n",
       "      <td>2008-04-03 04:16:37</td>\n",
       "      <td>1.835263</td>\n",
       "    </tr>\n",
       "    <tr>\n",
       "      <th>4</th>\n",
       "      <td>5</td>\n",
       "      <td>24</td>\n",
       "      <td>2008-04-03 08:33:25</td>\n",
       "      <td>1.834646</td>\n",
       "    </tr>\n",
       "  </tbody>\n",
       "</table>\n",
       "</div>"
      ],
      "text/plain": [
       "   cycle  ambient_temperature             datetime  capacity\n",
       "0      1                   24  2008-04-02 15:25:41  1.856487\n",
       "1      2                   24  2008-04-02 19:43:48  1.846327\n",
       "2      3                   24  2008-04-03 00:01:06  1.835349\n",
       "3      4                   24  2008-04-03 04:16:37  1.835263\n",
       "4      5                   24  2008-04-03 08:33:25  1.834646"
      ]
     },
     "execution_count": 2,
     "metadata": {},
     "output_type": "execute_result"
    }
   ],
   "source": [
    "df = pd.read_csv(\"cap5.csv\")\n",
    "df.head()"
   ]
  },
  {
   "cell_type": "code",
   "execution_count": 3,
   "id": "0ca40ecf",
   "metadata": {},
   "outputs": [
    {
     "data": {
      "text/html": [
       "<div>\n",
       "<style scoped>\n",
       "    .dataframe tbody tr th:only-of-type {\n",
       "        vertical-align: middle;\n",
       "    }\n",
       "\n",
       "    .dataframe tbody tr th {\n",
       "        vertical-align: top;\n",
       "    }\n",
       "\n",
       "    .dataframe thead th {\n",
       "        text-align: right;\n",
       "    }\n",
       "</style>\n",
       "<table border=\"1\" class=\"dataframe\">\n",
       "  <thead>\n",
       "    <tr style=\"text-align: right;\">\n",
       "      <th></th>\n",
       "      <th>datetime</th>\n",
       "      <th>capacity</th>\n",
       "    </tr>\n",
       "  </thead>\n",
       "  <tbody>\n",
       "    <tr>\n",
       "      <th>0</th>\n",
       "      <td>2008-04-02 15:25:41</td>\n",
       "      <td>1.856487</td>\n",
       "    </tr>\n",
       "    <tr>\n",
       "      <th>1</th>\n",
       "      <td>2008-04-02 19:43:48</td>\n",
       "      <td>1.846327</td>\n",
       "    </tr>\n",
       "    <tr>\n",
       "      <th>2</th>\n",
       "      <td>2008-04-03 00:01:06</td>\n",
       "      <td>1.835349</td>\n",
       "    </tr>\n",
       "    <tr>\n",
       "      <th>3</th>\n",
       "      <td>2008-04-03 04:16:37</td>\n",
       "      <td>1.835263</td>\n",
       "    </tr>\n",
       "    <tr>\n",
       "      <th>4</th>\n",
       "      <td>2008-04-03 08:33:25</td>\n",
       "      <td>1.834646</td>\n",
       "    </tr>\n",
       "  </tbody>\n",
       "</table>\n",
       "</div>"
      ],
      "text/plain": [
       "             datetime  capacity\n",
       "0 2008-04-02 15:25:41  1.856487\n",
       "1 2008-04-02 19:43:48  1.846327\n",
       "2 2008-04-03 00:01:06  1.835349\n",
       "3 2008-04-03 04:16:37  1.835263\n",
       "4 2008-04-03 08:33:25  1.834646"
      ]
     },
     "execution_count": 3,
     "metadata": {},
     "output_type": "execute_result"
    }
   ],
   "source": [
    "df[\"datetime\"] = pd.to_datetime(df[\"datetime\"],format = \"%Y-%m-%d %H:%M:%S\")\n",
    "df.drop([\"cycle\",\"ambient_temperature\"],inplace=True,axis=1)\n",
    "df.head()"
   ]
  },
  {
   "cell_type": "code",
   "execution_count": 4,
   "id": "3d907cd4",
   "metadata": {},
   "outputs": [
    {
     "data": {
      "text/html": [
       "<div>\n",
       "<style scoped>\n",
       "    .dataframe tbody tr th:only-of-type {\n",
       "        vertical-align: middle;\n",
       "    }\n",
       "\n",
       "    .dataframe tbody tr th {\n",
       "        vertical-align: top;\n",
       "    }\n",
       "\n",
       "    .dataframe thead th {\n",
       "        text-align: right;\n",
       "    }\n",
       "</style>\n",
       "<table border=\"1\" class=\"dataframe\">\n",
       "  <thead>\n",
       "    <tr style=\"text-align: right;\">\n",
       "      <th></th>\n",
       "      <th>datetime</th>\n",
       "      <th>capacity</th>\n",
       "      <th>roll_2</th>\n",
       "      <th>roll_3</th>\n",
       "      <th>roll_4</th>\n",
       "      <th>roll_5</th>\n",
       "      <th>roll_7</th>\n",
       "      <th>roll_10</th>\n",
       "    </tr>\n",
       "  </thead>\n",
       "  <tbody>\n",
       "    <tr>\n",
       "      <th>0</th>\n",
       "      <td>2008-04-02 15:25:41</td>\n",
       "      <td>1.856487</td>\n",
       "      <td>NaN</td>\n",
       "      <td>NaN</td>\n",
       "      <td>NaN</td>\n",
       "      <td>NaN</td>\n",
       "      <td>NaN</td>\n",
       "      <td>NaN</td>\n",
       "    </tr>\n",
       "    <tr>\n",
       "      <th>1</th>\n",
       "      <td>2008-04-02 19:43:48</td>\n",
       "      <td>1.846327</td>\n",
       "      <td>1.851407</td>\n",
       "      <td>NaN</td>\n",
       "      <td>NaN</td>\n",
       "      <td>NaN</td>\n",
       "      <td>NaN</td>\n",
       "      <td>NaN</td>\n",
       "    </tr>\n",
       "    <tr>\n",
       "      <th>2</th>\n",
       "      <td>2008-04-03 00:01:06</td>\n",
       "      <td>1.835349</td>\n",
       "      <td>1.840838</td>\n",
       "      <td>1.846055</td>\n",
       "      <td>NaN</td>\n",
       "      <td>NaN</td>\n",
       "      <td>NaN</td>\n",
       "      <td>NaN</td>\n",
       "    </tr>\n",
       "    <tr>\n",
       "      <th>3</th>\n",
       "      <td>2008-04-03 04:16:37</td>\n",
       "      <td>1.835263</td>\n",
       "      <td>1.835306</td>\n",
       "      <td>1.838980</td>\n",
       "      <td>1.843357</td>\n",
       "      <td>NaN</td>\n",
       "      <td>NaN</td>\n",
       "      <td>NaN</td>\n",
       "    </tr>\n",
       "    <tr>\n",
       "      <th>4</th>\n",
       "      <td>2008-04-03 08:33:25</td>\n",
       "      <td>1.834646</td>\n",
       "      <td>1.834954</td>\n",
       "      <td>1.835086</td>\n",
       "      <td>1.837896</td>\n",
       "      <td>1.841614</td>\n",
       "      <td>NaN</td>\n",
       "      <td>NaN</td>\n",
       "    </tr>\n",
       "  </tbody>\n",
       "</table>\n",
       "</div>"
      ],
      "text/plain": [
       "             datetime  capacity    roll_2    roll_3    roll_4    roll_5  \\\n",
       "0 2008-04-02 15:25:41  1.856487       NaN       NaN       NaN       NaN   \n",
       "1 2008-04-02 19:43:48  1.846327  1.851407       NaN       NaN       NaN   \n",
       "2 2008-04-03 00:01:06  1.835349  1.840838  1.846055       NaN       NaN   \n",
       "3 2008-04-03 04:16:37  1.835263  1.835306  1.838980  1.843357       NaN   \n",
       "4 2008-04-03 08:33:25  1.834646  1.834954  1.835086  1.837896  1.841614   \n",
       "\n",
       "   roll_7  roll_10  \n",
       "0     NaN      NaN  \n",
       "1     NaN      NaN  \n",
       "2     NaN      NaN  \n",
       "3     NaN      NaN  \n",
       "4     NaN      NaN  "
      ]
     },
     "execution_count": 4,
     "metadata": {},
     "output_type": "execute_result"
    }
   ],
   "source": [
    "df[\"roll_2\"] = df[\"capacity\"].rolling(2).mean()\n",
    "df[\"roll_3\"] = df[\"capacity\"].rolling(3).mean()\n",
    "df[\"roll_4\"] = df[\"capacity\"].rolling(4).mean()\n",
    "df[\"roll_5\"] = df[\"capacity\"].rolling(5).mean()\n",
    "df[\"roll_7\"] = df[\"capacity\"].rolling(7).mean()\n",
    "df[\"roll_10\"] = df[\"capacity\"].rolling(10).mean()\n",
    "df.head()"
   ]
  },
  {
   "cell_type": "code",
   "execution_count": 5,
   "id": "c860afcf",
   "metadata": {},
   "outputs": [
    {
     "name": "stdout",
     "output_type": "stream",
     "text": [
      "ADF Statistic: -0.525685\n",
      "p-value: 0.886906\n"
     ]
    },
    {
     "name": "stderr",
     "output_type": "stream",
     "text": [
      "C:\\Users\\mehme\\anaconda3\\lib\\site-packages\\statsmodels\\tsa\\base\\tsa_model.py:7: FutureWarning: pandas.Int64Index is deprecated and will be removed from pandas in a future version. Use pandas.Index with the appropriate dtype instead.\n",
      "  from pandas import (to_datetime, Int64Index, DatetimeIndex, Period,\n",
      "C:\\Users\\mehme\\anaconda3\\lib\\site-packages\\statsmodels\\tsa\\base\\tsa_model.py:7: FutureWarning: pandas.Float64Index is deprecated and will be removed from pandas in a future version. Use pandas.Index with the appropriate dtype instead.\n",
      "  from pandas import (to_datetime, Int64Index, DatetimeIndex, Period,\n"
     ]
    }
   ],
   "source": [
    "from statsmodels.tsa.stattools import adfuller\n",
    "from numpy import log\n",
    "result = adfuller(df[\"capacity\"])\n",
    "print('ADF Statistic: %f' % result[0])\n",
    "print('p-value: %f' % result[1])"
   ]
  },
  {
   "cell_type": "code",
   "execution_count": 6,
   "id": "d80f5db8",
   "metadata": {},
   "outputs": [],
   "source": [
    "from pmdarima.arima import auto_arima\n",
    "def fun_arima(col):\n",
    "    arima_model = auto_arima(df[col].dropna(), \n",
    "                               start_p=0, start_q=0,\n",
    "                               test='adf',\n",
    "                               max_p=2, max_q=2, m=12,\n",
    "                               start_P=0, seasonal=True,\n",
    "                               d=None, D=1, trace=True,\n",
    "                               error_action='ignore',  \n",
    "                               suppress_warnings=True, \n",
    "                               stepwise=True)\n",
    "    print(arima_model.summary())"
   ]
  },
  {
   "cell_type": "code",
   "execution_count": 90,
   "id": "57ab6639",
   "metadata": {},
   "outputs": [
    {
     "name": "stdout",
     "output_type": "stream",
     "text": [
      "Performing stepwise search to minimize aic\n",
      " ARIMA(0,1,0)(0,1,1)[12]             : AIC=-1274.239, Time=0.24 sec\n",
      " ARIMA(0,1,0)(0,1,0)[12]             : AIC=-1243.305, Time=0.04 sec\n",
      " ARIMA(1,1,0)(1,1,0)[12]             : AIC=-1378.976, Time=0.24 sec\n",
      " ARIMA(0,1,1)(0,1,1)[12]             : AIC=-1350.572, Time=0.35 sec\n",
      " ARIMA(1,1,0)(0,1,0)[12]             : AIC=-1358.629, Time=0.13 sec\n",
      " ARIMA(1,1,0)(2,1,0)[12]             : AIC=-1384.022, Time=0.30 sec\n",
      " ARIMA(1,1,0)(2,1,1)[12]             : AIC=-1394.886, Time=1.02 sec\n",
      " ARIMA(1,1,0)(1,1,1)[12]             : AIC=-1390.306, Time=0.30 sec\n",
      " ARIMA(1,1,0)(2,1,2)[12]             : AIC=-1376.829, Time=1.10 sec\n",
      " ARIMA(1,1,0)(1,1,2)[12]             : AIC=-1391.496, Time=0.89 sec\n",
      " ARIMA(0,1,0)(2,1,1)[12]             : AIC=-1259.955, Time=0.35 sec\n",
      " ARIMA(2,1,0)(2,1,1)[12]             : AIC=-1386.467, Time=0.87 sec\n",
      " ARIMA(1,1,1)(2,1,1)[12]             : AIC=-1386.897, Time=0.57 sec\n",
      " ARIMA(0,1,1)(2,1,1)[12]             : AIC=-1338.408, Time=0.81 sec\n",
      " ARIMA(2,1,1)(2,1,1)[12]             : AIC=-1391.001, Time=3.02 sec\n",
      " ARIMA(1,1,0)(2,1,1)[12] intercept   : AIC=-1387.263, Time=0.96 sec\n",
      "\n",
      "Best model:  ARIMA(1,1,0)(2,1,1)[12]          \n",
      "Total fit time: 11.216 seconds\n",
      "                                      SARIMAX Results                                       \n",
      "============================================================================================\n",
      "Dep. Variable:                                    y   No. Observations:                  159\n",
      "Model:             SARIMAX(1, 1, 0)x(2, 1, [1], 12)   Log Likelihood                 702.443\n",
      "Date:                              Wed, 17 Aug 2022   AIC                          -1394.886\n",
      "Time:                                      11:34:03   BIC                          -1379.968\n",
      "Sample:                                           0   HQIC                         -1388.825\n",
      "                                              - 159                                         \n",
      "Covariance Type:                                opg                                         \n",
      "==============================================================================\n",
      "                 coef    std err          z      P>|z|      [0.025      0.975]\n",
      "------------------------------------------------------------------------------\n",
      "ar.L1          0.7422      0.065     11.369      0.000       0.614       0.870\n",
      "ar.S.L12      -0.1340      0.191     -0.703      0.482      -0.507       0.240\n",
      "ar.S.L24      -0.1895      0.123     -1.541      0.123      -0.431       0.052\n",
      "ma.S.L12      -0.4722      0.189     -2.492      0.013      -0.844      -0.101\n",
      "sigma2      3.695e-06   2.51e-07     14.746      0.000     3.2e-06    4.19e-06\n",
      "===================================================================================\n",
      "Ljung-Box (L1) (Q):                   0.01   Jarque-Bera (JB):               128.35\n",
      "Prob(Q):                              0.91   Prob(JB):                         0.00\n",
      "Heteroskedasticity (H):               0.50   Skew:                             0.09\n",
      "Prob(H) (two-sided):                  0.02   Kurtosis:                         7.59\n",
      "===================================================================================\n",
      "\n",
      "Warnings:\n",
      "[1] Covariance matrix calculated using the outer product of gradients (complex-step).\n"
     ]
    }
   ],
   "source": [
    "#for col in df.columns[1:]:\n",
    "fun_arima(\"roll_10\")"
   ]
  },
  {
   "cell_type": "code",
   "execution_count": 91,
   "id": "47a7d4a3",
   "metadata": {},
   "outputs": [
    {
     "name": "stderr",
     "output_type": "stream",
     "text": [
      "C:\\Users\\mehme\\anaconda3\\lib\\site-packages\\statsmodels\\base\\model.py:566: ConvergenceWarning: Maximum Likelihood optimization failed to converge. Check mle_retvals\n",
      "  warnings.warn(\"Maximum Likelihood optimization failed to \"\n"
     ]
    },
    {
     "data": {
      "text/plain": [
       "<AxesSubplot:>"
      ]
     },
     "execution_count": 91,
     "metadata": {},
     "output_type": "execute_result"
    },
    {
     "data": {
      "image/png": "[encoded data removed]",
      "text/plain": [
       "<Figure size 432x288 with 1 Axes>"
      ]
     },
     "metadata": {
      "needs_background": "light"
     },
     "output_type": "display_data"
    }
   ],
   "source": [
    "size = int(len(df) * 0.90)\n",
    "X_train, X_test = df[0:size], df[size:len(df)]\n",
    "from statsmodels.tsa.statespace.sarimax import SARIMAX \n",
    "  \n",
    "model = SARIMAX(X_train['roll_10'],  \n",
    "                order = (1,1,0),  \n",
    "                seasonal_order =(2,1,1,12)) \n",
    "  \n",
    "result = model.fit() \n",
    "result.summary() \n",
    "start_index = 0\n",
    "end_index = len(X_train)-1\n",
    "train_prediction = result.predict(start_index, end_index) \n",
    "\n",
    "#Prediction\n",
    "start_index = len(X_train)\n",
    "end_index = len(df)-1\n",
    "prediction = result.predict(start_index, end_index)\n",
    "#Rename the column\n",
    "\n",
    "# plot predictions and actual values \n",
    "prediction.plot(legend = True) \n",
    "X_test['capacity'].plot(legend = True) \n"
   ]
  },
  {
   "cell_type": "code",
   "execution_count": 92,
   "id": "7239f20b",
   "metadata": {},
   "outputs": [
    {
     "name": "stdout",
     "output_type": "stream",
     "text": [
      "Train Score: 0.48563 RMSE\n",
      "Test Score: 0.01234 RMSE\n"
     ]
    }
   ],
   "source": [
    "import math\n",
    "from sklearn.metrics import mean_squared_error\n",
    "# calculate root mean squared error\n",
    "trainScore = math.sqrt(mean_squared_error(X_train[\"capacity\"], train_prediction))\n",
    "print('Train Score: %.5f RMSE' % (trainScore))\n",
    "testScore = math.sqrt(mean_squared_error(X_test[\"capacity\"], prediction))\n",
    "print('Test Score: %.5f RMSE' % (testScore))\n"
   ]
  },
  {
   "cell_type": "code",
   "execution_count": 110,
   "id": "9414f240",
   "metadata": {},
   "outputs": [
    {
     "data": {
      "image/png": "[encoded data removed]",
      "text/plain": [
       "<Figure size 864x576 with 1 Axes>"
      ]
     },
     "metadata": {
      "needs_background": "light"
     },
     "output_type": "display_data"
    }
   ],
   "source": [
    "forecast = result.predict(start = len(df),  \n",
    "                          end = (len(df)-1) + 3 * 12,  \n",
    "                          typ = 'levels').rename('Forecast') \n",
    "  \n",
    "plt.figure(figsize=(12,8))\n",
    "plt.plot(X_train[\"capacity\"], label='Training', color='green')\n",
    "plt.plot(X_test[\"capacity\"], label='Test', color='yellow')\n",
    "\n",
    "plt.plot(forecast, label='Forecast', color='cyan')\n",
    "plt.legend(loc='upper right')\n",
    "plt.show()"
   ]
  },
  {
   "cell_type": "code",
   "execution_count": 93,
   "id": "a3bbb112",
   "metadata": {},
   "outputs": [],
   "source": [
    "dic[10] = testScore"
   ]
  },
  {
   "cell_type": "code",
   "execution_count": 109,
   "id": "5df377b9",
   "metadata": {},
   "outputs": [
    {
     "data": {
      "image/png": "[encoded data removed]",
      "text/plain": [
       "<Figure size 432x288 with 1 Axes>"
      ]
     },
     "metadata": {
      "needs_background": "light"
     },
     "output_type": "display_data"
    }
   ],
   "source": [
    "names = list(dic.keys())\n",
    "values = list(dic.values())\n",
    "plt.plot(names,values)\n",
    "plt.show()"
   ]
  },
  {
   "cell_type": "code",
   "execution_count": null,
   "id": "529d326a",
   "metadata": {},
   "outputs": [],
   "source": []
  }
 ],
 "metadata": {
  "kernelspec": {
   "display_name": "Python 3 (ipykernel)",
   "language": "python",
   "name": "python3"
  },
  "language_info": {
   "codemirror_mode": {
    "name": "ipython",
    "version": 3
   },
   "file_extension": ".py",
   "mimetype": "text/x-python",
   "name": "python",
   "nbconvert_exporter": "python",
   "pygments_lexer": "ipython3",
   "version": "3.9.7"
  }
 },
 "nbformat": 4,
 "nbformat_minor": 5
}
